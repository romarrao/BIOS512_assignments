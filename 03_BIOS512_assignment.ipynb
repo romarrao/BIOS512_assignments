{
 "cells": [
  {
   "cell_type": "markdown",
   "id": "e9216b63-c18a-4c9b-beff-4b6b2e1b6964",
   "metadata": {},
   "source": [
    "# BIOS512 Assignment #3"
   ]
  },
  {
   "cell_type": "markdown",
   "id": "4403015e-d27f-473c-8720-088ac6db57c9",
   "metadata": {},
   "source": [
    "Import the 📈Tidyverse into your `R` session"
   ]
  },
  {
   "cell_type": "code",
   "execution_count": 43,
   "id": "2cb997c6-b57c-4198-aa5c-8be897467c7c",
   "metadata": {
    "tags": []
   },
   "outputs": [],
   "source": [
    "library('tidyverse')"
   ]
  },
  {
   "cell_type": "markdown",
   "id": "47ccf7f6-01c6-46b4-94a1-f8dcd8ef8377",
   "metadata": {},
   "source": [
    "In this assignment we'll be using data from the [TidyTuesday Project](https://github.com/rfordatascience/tidytuesday). Specifically, we'll investigate vaccination rates at US schools. A `CSV` file of the data is located at:  \n",
    "\n",
    "[https://github.com/rfordatascience/tidytuesday/blob/master/data/2020/2020-02-25/measles.csv](https://github.com/rfordatascience/tidytuesday/blob/master/data/2020/2020-02-25/measles.csv)\n",
    "\n",
    "Get the \"raw\" data URL and import it into your `R` session using `read_csv`. Remember to capture the data under a variable name of your choosing!"
   ]
  },
  {
   "cell_type": "code",
   "execution_count": 44,
   "id": "8de37571-29da-4393-b1eb-ca13fcd70fed",
   "metadata": {
    "tags": []
   },
   "outputs": [
    {
     "data": {
      "text/html": [
       "<table class=\"dataframe\">\n",
       "<caption>A tibble: 6 × 16</caption>\n",
       "<thead>\n",
       "\t<tr><th scope=col>index</th><th scope=col>state</th><th scope=col>year</th><th scope=col>name</th><th scope=col>type</th><th scope=col>city</th><th scope=col>county</th><th scope=col>district</th><th scope=col>enroll</th><th scope=col>mmr</th><th scope=col>overall</th><th scope=col>xrel</th><th scope=col>xmed</th><th scope=col>xper</th><th scope=col>lat</th><th scope=col>lng</th></tr>\n",
       "\t<tr><th scope=col>&lt;dbl&gt;</th><th scope=col>&lt;chr&gt;</th><th scope=col>&lt;chr&gt;</th><th scope=col>&lt;chr&gt;</th><th scope=col>&lt;chr&gt;</th><th scope=col>&lt;chr&gt;</th><th scope=col>&lt;chr&gt;</th><th scope=col>&lt;lgl&gt;</th><th scope=col>&lt;dbl&gt;</th><th scope=col>&lt;dbl&gt;</th><th scope=col>&lt;dbl&gt;</th><th scope=col>&lt;lgl&gt;</th><th scope=col>&lt;dbl&gt;</th><th scope=col>&lt;dbl&gt;</th><th scope=col>&lt;dbl&gt;</th><th scope=col>&lt;dbl&gt;</th></tr>\n",
       "</thead>\n",
       "<tbody>\n",
       "\t<tr><td>1</td><td>Arizona</td><td>2018-19</td><td>A J Mitchell Elementary                 </td><td>Public </td><td>Nogales</td><td>Santa Cruz</td><td>NA</td><td>51</td><td>100</td><td>-1</td><td>NA</td><td>  NA</td><td>  NA</td><td>31.34782</td><td>-110.9380</td></tr>\n",
       "\t<tr><td>2</td><td>Arizona</td><td>2018-19</td><td>Academy Del Sol                         </td><td>Charter</td><td>Tucson </td><td>Pima      </td><td>NA</td><td>22</td><td>100</td><td>-1</td><td>NA</td><td>  NA</td><td>  NA</td><td>32.22192</td><td>-110.8961</td></tr>\n",
       "\t<tr><td>3</td><td>Arizona</td><td>2018-19</td><td>Academy Del Sol - Hope                  </td><td>Charter</td><td>Tucson </td><td>Pima      </td><td>NA</td><td>85</td><td>100</td><td>-1</td><td>NA</td><td>  NA</td><td>  NA</td><td>32.13049</td><td>-111.1170</td></tr>\n",
       "\t<tr><td>4</td><td>Arizona</td><td>2018-19</td><td>Academy Of Mathematics And Science South</td><td>Charter</td><td>Phoenix</td><td>Maricopa  </td><td>NA</td><td>60</td><td>100</td><td>-1</td><td>NA</td><td>  NA</td><td>  NA</td><td>33.48545</td><td>-112.1306</td></tr>\n",
       "\t<tr><td>5</td><td>Arizona</td><td>2018-19</td><td>Acclaim Academy                         </td><td>Charter</td><td>Phoenix</td><td>Maricopa  </td><td>NA</td><td>43</td><td>100</td><td>-1</td><td>NA</td><td>2.33</td><td>2.33</td><td>33.49562</td><td>-112.2247</td></tr>\n",
       "\t<tr><td>6</td><td>Arizona</td><td>2018-19</td><td>Alfred F Garcia                         </td><td>Public </td><td>Phoenix</td><td>Maricopa  </td><td>NA</td><td>36</td><td>100</td><td>-1</td><td>NA</td><td>  NA</td><td>  NA</td><td>33.43532</td><td>-112.1168</td></tr>\n",
       "</tbody>\n",
       "</table>\n"
      ],
      "text/latex": [
       "A tibble: 6 × 16\n",
       "\\begin{tabular}{llllllllllllllll}\n",
       " index & state & year & name & type & city & county & district & enroll & mmr & overall & xrel & xmed & xper & lat & lng\\\\\n",
       " <dbl> & <chr> & <chr> & <chr> & <chr> & <chr> & <chr> & <lgl> & <dbl> & <dbl> & <dbl> & <lgl> & <dbl> & <dbl> & <dbl> & <dbl>\\\\\n",
       "\\hline\n",
       "\t 1 & Arizona & 2018-19 & A J Mitchell Elementary                  & Public  & Nogales & Santa Cruz & NA & 51 & 100 & -1 & NA &   NA &   NA & 31.34782 & -110.9380\\\\\n",
       "\t 2 & Arizona & 2018-19 & Academy Del Sol                          & Charter & Tucson  & Pima       & NA & 22 & 100 & -1 & NA &   NA &   NA & 32.22192 & -110.8961\\\\\n",
       "\t 3 & Arizona & 2018-19 & Academy Del Sol - Hope                   & Charter & Tucson  & Pima       & NA & 85 & 100 & -1 & NA &   NA &   NA & 32.13049 & -111.1170\\\\\n",
       "\t 4 & Arizona & 2018-19 & Academy Of Mathematics And Science South & Charter & Phoenix & Maricopa   & NA & 60 & 100 & -1 & NA &   NA &   NA & 33.48545 & -112.1306\\\\\n",
       "\t 5 & Arizona & 2018-19 & Acclaim Academy                          & Charter & Phoenix & Maricopa   & NA & 43 & 100 & -1 & NA & 2.33 & 2.33 & 33.49562 & -112.2247\\\\\n",
       "\t 6 & Arizona & 2018-19 & Alfred F Garcia                          & Public  & Phoenix & Maricopa   & NA & 36 & 100 & -1 & NA &   NA &   NA & 33.43532 & -112.1168\\\\\n",
       "\\end{tabular}\n"
      ],
      "text/markdown": [
       "\n",
       "A tibble: 6 × 16\n",
       "\n",
       "| index &lt;dbl&gt; | state &lt;chr&gt; | year &lt;chr&gt; | name &lt;chr&gt; | type &lt;chr&gt; | city &lt;chr&gt; | county &lt;chr&gt; | district &lt;lgl&gt; | enroll &lt;dbl&gt; | mmr &lt;dbl&gt; | overall &lt;dbl&gt; | xrel &lt;lgl&gt; | xmed &lt;dbl&gt; | xper &lt;dbl&gt; | lat &lt;dbl&gt; | lng &lt;dbl&gt; |\n",
       "|---|---|---|---|---|---|---|---|---|---|---|---|---|---|---|---|\n",
       "| 1 | Arizona | 2018-19 | A J Mitchell Elementary                  | Public  | Nogales | Santa Cruz | NA | 51 | 100 | -1 | NA |   NA |   NA | 31.34782 | -110.9380 |\n",
       "| 2 | Arizona | 2018-19 | Academy Del Sol                          | Charter | Tucson  | Pima       | NA | 22 | 100 | -1 | NA |   NA |   NA | 32.22192 | -110.8961 |\n",
       "| 3 | Arizona | 2018-19 | Academy Del Sol - Hope                   | Charter | Tucson  | Pima       | NA | 85 | 100 | -1 | NA |   NA |   NA | 32.13049 | -111.1170 |\n",
       "| 4 | Arizona | 2018-19 | Academy Of Mathematics And Science South | Charter | Phoenix | Maricopa   | NA | 60 | 100 | -1 | NA |   NA |   NA | 33.48545 | -112.1306 |\n",
       "| 5 | Arizona | 2018-19 | Acclaim Academy                          | Charter | Phoenix | Maricopa   | NA | 43 | 100 | -1 | NA | 2.33 | 2.33 | 33.49562 | -112.2247 |\n",
       "| 6 | Arizona | 2018-19 | Alfred F Garcia                          | Public  | Phoenix | Maricopa   | NA | 36 | 100 | -1 | NA |   NA |   NA | 33.43532 | -112.1168 |\n",
       "\n"
      ],
      "text/plain": [
       "  index state   year    name                                     type   \n",
       "1 1     Arizona 2018-19 A J Mitchell Elementary                  Public \n",
       "2 2     Arizona 2018-19 Academy Del Sol                          Charter\n",
       "3 3     Arizona 2018-19 Academy Del Sol - Hope                   Charter\n",
       "4 4     Arizona 2018-19 Academy Of Mathematics And Science South Charter\n",
       "5 5     Arizona 2018-19 Acclaim Academy                          Charter\n",
       "6 6     Arizona 2018-19 Alfred F Garcia                          Public \n",
       "  city    county     district enroll mmr overall xrel xmed xper lat     \n",
       "1 Nogales Santa Cruz NA       51     100 -1      NA     NA   NA 31.34782\n",
       "2 Tucson  Pima       NA       22     100 -1      NA     NA   NA 32.22192\n",
       "3 Tucson  Pima       NA       85     100 -1      NA     NA   NA 32.13049\n",
       "4 Phoenix Maricopa   NA       60     100 -1      NA     NA   NA 33.48545\n",
       "5 Phoenix Maricopa   NA       43     100 -1      NA   2.33 2.33 33.49562\n",
       "6 Phoenix Maricopa   NA       36     100 -1      NA     NA   NA 33.43532\n",
       "  lng      \n",
       "1 -110.9380\n",
       "2 -110.8961\n",
       "3 -111.1170\n",
       "4 -112.1306\n",
       "5 -112.2247\n",
       "6 -112.1168"
      ]
     },
     "metadata": {},
     "output_type": "display_data"
    }
   ],
   "source": [
    "df.measles = read_csv(\n",
    "    'https://raw.githubusercontent.com/rfordatascience/tidytuesday/master/data/2020/2020-02-25/measles.csv',\n",
    "    col_types = cols()) \n",
    "\n",
    "df.measles |> head()\n"
   ]
  },
  {
   "cell_type": "markdown",
   "id": "feb89cec-8cda-457d-95cf-89dbfa932ab4",
   "metadata": {},
   "source": [
    "The `mmr` column has holds 🤒 measles, mumps, rubella 🤒 vaccination rates for students in each respective school. **If the `mmr` value is not available for a school the `mmr` value is set to -1 in this data set.** \n",
    "\n",
    "The target `mmr` vaccination rate as [recommended by the CDC](https://www.cdc.gov/mmwr/preview/mmwrhtml/mm5632a3.htm) for schools is 95%. \n",
    "\n",
    "**Calculate the fraction of schools per state that have vaccination rates greater than the CDC 95%. Capture the output as a table called `df_vacc_rates`.**\n",
    "\n",
    "You'll need to do use `filter`, `group_by`, and `summarize`. \n",
    "\n",
    "I.e.\n",
    "1. Filter out schools that don't report `mmr` vaccination rate (keep schools where `mmr >= 0`).\n",
    "1. Group the data by `state`.\n",
    "1. Summarize fracion of vaccination rates above 95%.\n",
    "\n",
    "💡Remember `n()` stands for the number or records in a group. Also, `sum(mmr >= 95, na.rm=TRUE)` will count the number of values above or equal to 95.💡"
   ]
  },
  {
   "cell_type": "code",
   "execution_count": 45,
   "id": "0ba9a861-00fc-4392-a67d-cddbd5a994e0",
   "metadata": {},
   "outputs": [
    {
     "data": {
      "text/html": [
       "<table class=\"dataframe\">\n",
       "<caption>A tibble: 6 × 2</caption>\n",
       "<thead>\n",
       "\t<tr><th scope=col>state</th><th scope=col>frac</th></tr>\n",
       "\t<tr><th scope=col>&lt;chr&gt;</th><th scope=col>&lt;dbl&gt;</th></tr>\n",
       "</thead>\n",
       "<tbody>\n",
       "\t<tr><td>Arkansas    </td><td>0.003527337</td></tr>\n",
       "\t<tr><td>Washington  </td><td>0.326592518</td></tr>\n",
       "\t<tr><td>North Dakota</td><td>0.455555556</td></tr>\n",
       "\t<tr><td>Maine       </td><td>0.473389356</td></tr>\n",
       "\t<tr><td>Minnesota   </td><td>0.473948525</td></tr>\n",
       "\t<tr><td>Ohio        </td><td>0.491606715</td></tr>\n",
       "</tbody>\n",
       "</table>\n"
      ],
      "text/latex": [
       "A tibble: 6 × 2\n",
       "\\begin{tabular}{ll}\n",
       " state & frac\\\\\n",
       " <chr> & <dbl>\\\\\n",
       "\\hline\n",
       "\t Arkansas     & 0.003527337\\\\\n",
       "\t Washington   & 0.326592518\\\\\n",
       "\t North Dakota & 0.455555556\\\\\n",
       "\t Maine        & 0.473389356\\\\\n",
       "\t Minnesota    & 0.473948525\\\\\n",
       "\t Ohio         & 0.491606715\\\\\n",
       "\\end{tabular}\n"
      ],
      "text/markdown": [
       "\n",
       "A tibble: 6 × 2\n",
       "\n",
       "| state &lt;chr&gt; | frac &lt;dbl&gt; |\n",
       "|---|---|\n",
       "| Arkansas     | 0.003527337 |\n",
       "| Washington   | 0.326592518 |\n",
       "| North Dakota | 0.455555556 |\n",
       "| Maine        | 0.473389356 |\n",
       "| Minnesota    | 0.473948525 |\n",
       "| Ohio         | 0.491606715 |\n",
       "\n"
      ],
      "text/plain": [
       "  state        frac       \n",
       "1 Arkansas     0.003527337\n",
       "2 Washington   0.326592518\n",
       "3 North Dakota 0.455555556\n",
       "4 Maine        0.473389356\n",
       "5 Minnesota    0.473948525\n",
       "6 Ohio         0.491606715"
      ]
     },
     "metadata": {},
     "output_type": "display_data"
    }
   ],
   "source": [
    "# create the df_vacc_rates here\n",
    "df_vacc_rates = df.measles |> \n",
    "    filter(mmr >= 0) |>\n",
    "    group_by(state) |>\n",
    "    summarize(frac = sum(mmr >= 95, na.rm=TRUE)/sum(mmr >= 0, na.rm=TRUE)) |>\n",
    "    arrange(frac)\n",
    "    \n",
    "df_vacc_rates |> head()\n",
    "              \n"
   ]
  },
  {
   "cell_type": "markdown",
   "id": "900ddf7f-d801-4a70-9453-73bdd3277344",
   "metadata": {},
   "source": [
    "Which state (of those that report `mmr`) has the smallest fraction of schools above the CDC target vaccination rate of 95%?  \n",
    "\n",
    "Answer: Arkansas"
   ]
  },
  {
   "cell_type": "markdown",
   "id": "2866ca03-1f87-466e-ab0a-dd69140496e6",
   "metadata": {},
   "source": [
    "**Make a ECDF plot of the school vaccination rates in North Carolina.** Use the `overall` column which reports the \"overall\" vaccination rate at each school.\n",
    "\n",
    "❗️Remember, you can calculate the `y` value for ECDF charts using `row_number`, `mutate`, and `arrange`."
   ]
  },
  {
   "cell_type": "code",
   "execution_count": 46,
   "id": "478c5949-b5cb-4a4c-9915-6201427248c1",
   "metadata": {},
   "outputs": [
    {
     "data": {
      "text/html": [
       "<table class=\"dataframe\">\n",
       "<caption>A tibble: 6 × 17</caption>\n",
       "<thead>\n",
       "\t<tr><th scope=col>index</th><th scope=col>state</th><th scope=col>year</th><th scope=col>name</th><th scope=col>type</th><th scope=col>city</th><th scope=col>county</th><th scope=col>district</th><th scope=col>enroll</th><th scope=col>mmr</th><th scope=col>overall</th><th scope=col>xrel</th><th scope=col>xmed</th><th scope=col>xper</th><th scope=col>lat</th><th scope=col>lng</th><th scope=col>y_var</th></tr>\n",
       "\t<tr><th scope=col>&lt;dbl&gt;</th><th scope=col>&lt;chr&gt;</th><th scope=col>&lt;chr&gt;</th><th scope=col>&lt;chr&gt;</th><th scope=col>&lt;chr&gt;</th><th scope=col>&lt;chr&gt;</th><th scope=col>&lt;chr&gt;</th><th scope=col>&lt;lgl&gt;</th><th scope=col>&lt;dbl&gt;</th><th scope=col>&lt;dbl&gt;</th><th scope=col>&lt;dbl&gt;</th><th scope=col>&lt;lgl&gt;</th><th scope=col>&lt;dbl&gt;</th><th scope=col>&lt;dbl&gt;</th><th scope=col>&lt;dbl&gt;</th><th scope=col>&lt;dbl&gt;</th><th scope=col>&lt;dbl&gt;</th></tr>\n",
       "</thead>\n",
       "<tbody>\n",
       "\t<tr><td>1766</td><td>North Carolina</td><td>2018-19</td><td>Annunciation Catholic       </td><td>NA</td><td>NA</td><td>Craven     </td><td>NA</td><td> 23</td><td>-1</td><td>21.7</td><td>NA</td><td> NA</td><td>NA</td><td>34.87682</td><td>-76.90448</td><td>0.0004798464</td></tr>\n",
       "\t<tr><td>1765</td><td>North Carolina</td><td>2018-19</td><td>Starmount Acad of Excellence</td><td>NA</td><td>NA</td><td>Mecklenburg</td><td>NA</td><td> 77</td><td>-1</td><td>40.3</td><td>NA</td><td> NA</td><td>NA</td><td>35.13929</td><td>-80.87051</td><td>0.0009596929</td></tr>\n",
       "\t<tr><td>1764</td><td>North Carolina</td><td>2018-19</td><td>Spruce Pine Montessori      </td><td>NA</td><td>NA</td><td>Mitchell   </td><td>NA</td><td>  7</td><td>-1</td><td>42.9</td><td>NA</td><td> NA</td><td>NA</td><td>35.91674</td><td>-82.06719</td><td>0.0014395393</td></tr>\n",
       "\t<tr><td>1763</td><td>North Carolina</td><td>2018-19</td><td>Moyock Elementary           </td><td>NA</td><td>NA</td><td>Currituck  </td><td>NA</td><td> 85</td><td>-1</td><td>43.5</td><td>NA</td><td> NA</td><td>NA</td><td>36.52490</td><td>-76.17366</td><td>0.0019193858</td></tr>\n",
       "\t<tr><td>1762</td><td>North Carolina</td><td>2018-19</td><td>Liberty Christian           </td><td>NA</td><td>NA</td><td>Durham     </td><td>NA</td><td> 20</td><td>-1</td><td>45.0</td><td>NA</td><td>5.0</td><td>NA</td><td>36.06362</td><td>-78.92544</td><td>0.0023992322</td></tr>\n",
       "\t<tr><td>1761</td><td>North Carolina</td><td>2018-19</td><td>Nations Ford Elementary     </td><td>NA</td><td>NA</td><td>Mecklenburg</td><td>NA</td><td>117</td><td>-1</td><td>45.3</td><td>NA</td><td>0.9</td><td>NA</td><td>35.15489</td><td>-80.90022</td><td>0.0028790787</td></tr>\n",
       "</tbody>\n",
       "</table>\n"
      ],
      "text/latex": [
       "A tibble: 6 × 17\n",
       "\\begin{tabular}{lllllllllllllllll}\n",
       " index & state & year & name & type & city & county & district & enroll & mmr & overall & xrel & xmed & xper & lat & lng & y\\_var\\\\\n",
       " <dbl> & <chr> & <chr> & <chr> & <chr> & <chr> & <chr> & <lgl> & <dbl> & <dbl> & <dbl> & <lgl> & <dbl> & <dbl> & <dbl> & <dbl> & <dbl>\\\\\n",
       "\\hline\n",
       "\t 1766 & North Carolina & 2018-19 & Annunciation Catholic        & NA & NA & Craven      & NA &  23 & -1 & 21.7 & NA &  NA & NA & 34.87682 & -76.90448 & 0.0004798464\\\\\n",
       "\t 1765 & North Carolina & 2018-19 & Starmount Acad of Excellence & NA & NA & Mecklenburg & NA &  77 & -1 & 40.3 & NA &  NA & NA & 35.13929 & -80.87051 & 0.0009596929\\\\\n",
       "\t 1764 & North Carolina & 2018-19 & Spruce Pine Montessori       & NA & NA & Mitchell    & NA &   7 & -1 & 42.9 & NA &  NA & NA & 35.91674 & -82.06719 & 0.0014395393\\\\\n",
       "\t 1763 & North Carolina & 2018-19 & Moyock Elementary            & NA & NA & Currituck   & NA &  85 & -1 & 43.5 & NA &  NA & NA & 36.52490 & -76.17366 & 0.0019193858\\\\\n",
       "\t 1762 & North Carolina & 2018-19 & Liberty Christian            & NA & NA & Durham      & NA &  20 & -1 & 45.0 & NA & 5.0 & NA & 36.06362 & -78.92544 & 0.0023992322\\\\\n",
       "\t 1761 & North Carolina & 2018-19 & Nations Ford Elementary      & NA & NA & Mecklenburg & NA & 117 & -1 & 45.3 & NA & 0.9 & NA & 35.15489 & -80.90022 & 0.0028790787\\\\\n",
       "\\end{tabular}\n"
      ],
      "text/markdown": [
       "\n",
       "A tibble: 6 × 17\n",
       "\n",
       "| index &lt;dbl&gt; | state &lt;chr&gt; | year &lt;chr&gt; | name &lt;chr&gt; | type &lt;chr&gt; | city &lt;chr&gt; | county &lt;chr&gt; | district &lt;lgl&gt; | enroll &lt;dbl&gt; | mmr &lt;dbl&gt; | overall &lt;dbl&gt; | xrel &lt;lgl&gt; | xmed &lt;dbl&gt; | xper &lt;dbl&gt; | lat &lt;dbl&gt; | lng &lt;dbl&gt; | y_var &lt;dbl&gt; |\n",
       "|---|---|---|---|---|---|---|---|---|---|---|---|---|---|---|---|---|\n",
       "| 1766 | North Carolina | 2018-19 | Annunciation Catholic        | NA | NA | Craven      | NA |  23 | -1 | 21.7 | NA |  NA | NA | 34.87682 | -76.90448 | 0.0004798464 |\n",
       "| 1765 | North Carolina | 2018-19 | Starmount Acad of Excellence | NA | NA | Mecklenburg | NA |  77 | -1 | 40.3 | NA |  NA | NA | 35.13929 | -80.87051 | 0.0009596929 |\n",
       "| 1764 | North Carolina | 2018-19 | Spruce Pine Montessori       | NA | NA | Mitchell    | NA |   7 | -1 | 42.9 | NA |  NA | NA | 35.91674 | -82.06719 | 0.0014395393 |\n",
       "| 1763 | North Carolina | 2018-19 | Moyock Elementary            | NA | NA | Currituck   | NA |  85 | -1 | 43.5 | NA |  NA | NA | 36.52490 | -76.17366 | 0.0019193858 |\n",
       "| 1762 | North Carolina | 2018-19 | Liberty Christian            | NA | NA | Durham      | NA |  20 | -1 | 45.0 | NA | 5.0 | NA | 36.06362 | -78.92544 | 0.0023992322 |\n",
       "| 1761 | North Carolina | 2018-19 | Nations Ford Elementary      | NA | NA | Mecklenburg | NA | 117 | -1 | 45.3 | NA | 0.9 | NA | 35.15489 | -80.90022 | 0.0028790787 |\n",
       "\n"
      ],
      "text/plain": [
       "  index state          year    name                         type city\n",
       "1 1766  North Carolina 2018-19 Annunciation Catholic        NA   NA  \n",
       "2 1765  North Carolina 2018-19 Starmount Acad of Excellence NA   NA  \n",
       "3 1764  North Carolina 2018-19 Spruce Pine Montessori       NA   NA  \n",
       "4 1763  North Carolina 2018-19 Moyock Elementary            NA   NA  \n",
       "5 1762  North Carolina 2018-19 Liberty Christian            NA   NA  \n",
       "6 1761  North Carolina 2018-19 Nations Ford Elementary      NA   NA  \n",
       "  county      district enroll mmr overall xrel xmed xper lat      lng      \n",
       "1 Craven      NA        23    -1  21.7    NA    NA  NA   34.87682 -76.90448\n",
       "2 Mecklenburg NA        77    -1  40.3    NA    NA  NA   35.13929 -80.87051\n",
       "3 Mitchell    NA         7    -1  42.9    NA    NA  NA   35.91674 -82.06719\n",
       "4 Currituck   NA        85    -1  43.5    NA    NA  NA   36.52490 -76.17366\n",
       "5 Durham      NA        20    -1  45.0    NA   5.0  NA   36.06362 -78.92544\n",
       "6 Mecklenburg NA       117    -1  45.3    NA   0.9  NA   35.15489 -80.90022\n",
       "  y_var       \n",
       "1 0.0004798464\n",
       "2 0.0009596929\n",
       "3 0.0014395393\n",
       "4 0.0019193858\n",
       "5 0.0023992322\n",
       "6 0.0028790787"
      ]
     },
     "metadata": {},
     "output_type": "display_data"
    }
   ],
   "source": [
    "nc_measles_vax = df.measles |>\n",
    "    filter(state == 'North Carolina', overall>=0) |>\n",
    "    arrange(overall) |>\n",
    "    mutate(y_var = (row_number()/n())) \n",
    "\n",
    "nc_measles_vax |> head()\n",
    "    "
   ]
  },
  {
   "cell_type": "markdown",
   "id": "8f5ea83f-c904-46ee-9f52-af1bd1afbc96",
   "metadata": {},
   "source": [
    "(My solution is below if you want to peek 👀. Uncomment the code, change the cell to `markdown`, and exectute it.)"
   ]
  },
  {
   "cell_type": "markdown",
   "id": "e1387434-c15e-4556-af8c-043f0fac256b",
   "metadata": {},
   "source": [
    "![](https://github.com/chuckpr/BIOS512/blob/main/assignments/measles-chart.png?raw=true)"
   ]
  },
  {
   "cell_type": "markdown",
   "id": "d2041941-dcee-42e8-957f-a725dc36388f",
   "metadata": {},
   "source": [
    "Is the median vaccination rate for NC schools above the CDC recommended target? \n",
    "\n",
    "Yes, the median vaccination rate for NC schools is 100%, so it is above the CDC recommended target which is 95%"
   ]
  },
  {
   "cell_type": "code",
   "execution_count": 65,
   "id": "87e0aabd-c7be-41c0-afd3-a62cb073d571",
   "metadata": {
    "tags": []
   },
   "outputs": [
    {
     "data": {
      "text/html": [
       "100"
      ],
      "text/latex": [
       "100"
      ],
      "text/markdown": [
       "100"
      ],
      "text/plain": [
       "[1] 100"
      ]
     },
     "metadata": {},
     "output_type": "display_data"
    }
   ],
   "source": [
    "nc_median_vax = median(nc_measles_vax$overall)\n",
    "\n",
    "nc_median_vax |> head()"
   ]
  },
  {
   "cell_type": "code",
   "execution_count": 68,
   "id": "be2ea536-f8ed-486d-b6e3-9853ac2b01d0",
   "metadata": {},
   "outputs": [
    {
     "data": {
      "image/png": "[encoded data removed]",
      "text/plain": [
       "plot without title"
      ]
     },
     "metadata": {
      "image/png": {
       "height": 480,
       "width": 600
      }
     },
     "output_type": "display_data"
    }
   ],
   "source": [
    "options(repr.plot.res = 120, repr.plot.height = 8, repr.plot.width = 10)\n",
    "\n",
    "p = ggplot(nc_measles_vax, aes(x=overall/100, y=y_var)) +\n",
    "    geom_line(color='darkblue') +\n",
    "    geom_point(color='darkblue') + \n",
    "    scale_x_continuous(label=scales::percent_format()) + #change x-axis values to percent\n",
    "    labs(x=\"Vaccination rate (%)\", y=\"Fraction of schools\") + #axis labels\n",
    "    geom_vline(xintercept=.95, color=\"steelblue\")+ #vertical line to intercept of CDC recommendation\n",
    "    geom_label(label=\"CDC recommended vaccination rate (95%)\", x=0.78, y=0.8) + #add label on plot\n",
    "    theme_minimal() #white background\n",
    "           \n",
    "p"
   ]
  },
  {
   "cell_type": "code",
   "execution_count": null,
   "id": "dc2c0c27-d644-4484-83c1-ff47bad4ad37",
   "metadata": {},
   "outputs": [],
   "source": []
  }
 ],
 "metadata": {
  "kernelspec": {
   "display_name": "bios512:R",
   "language": "R",
   "name": "conda-env-bios512-r"
  },
  "language_info": {
   "codemirror_mode": "r",
   "file_extension": ".r",
   "mimetype": "text/x-r-source",
   "name": "R",
   "pygments_lexer": "r",
   "version": "4.3.1"
  }
 },
 "nbformat": 4,
 "nbformat_minor": 5
}
